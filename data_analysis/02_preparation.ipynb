{
 "cells": [
  {
   "cell_type": "markdown",
   "metadata": {},
   "source": [
    "## 2_Preparation"
   ]
  },
  {
   "cell_type": "markdown",
   "metadata": {},
   "source": [
    "__Index__\n",
    "\n",
    "1. __Drops Duplicates__ [⤵️](#1.-Drops-Duplicates)\n",
    "1. __Transforms column names to lowercase__ [⤵️](#2.-Transforms-column-names-to-lowercase)\n",
    "1. __Calculates URL length__ [⤵️](#3.-Calculates-URL-length)\n",
    "1. __Drops non-numeric columns__ [⤵️](#4.-Drops-non-numeric-columns)\n",
    "1. __Finds errors in speed column__ [⤵️](#5.-Finds-errors-in-speed-column)\n",
    "1. __Replaces missing values__ [⤵️](#6.-Replaces-missing-values)\n",
    "1. __Applies rule-based classification__ [⤵️](#7.-Applies-rule-based-classification)\n",
    "1. __Saves overview dataframe to excel__ [⤵️](#8.-Saves-overview-dataframe-to-excel)\n",
    "1. __Saves cleaned data__ [⤵️](#9.-Saves-cleaned-data)"
   ]
  },
  {
   "cell_type": "markdown",
   "metadata": {},
   "source": [
    "#### 0. Imports and loads dataset"
   ]
  },
  {
   "cell_type": "code",
   "execution_count": 1,
   "metadata": {},
   "outputs": [
    {
     "name": "stdout",
     "output_type": "stream",
     "text": [
      "importing Jupyter notebook from functions.ipynb\n"
     ]
    }
   ],
   "source": [
    "# %load imports.py\n",
    "import pandas as pd\n",
    "import numpy as np\n",
    "import seaborn as sns\n",
    "import matplotlib.pyplot as plt\n",
    "\n",
    "import import_ipynb\n",
    "import functions as my"
   ]
  },
  {
   "cell_type": "code",
   "execution_count": 2,
   "metadata": {},
   "outputs": [],
   "source": [
    "df = pd.read_csv('data/input/results_181220.csv', encoding='latin-1')"
   ]
  },
  {
   "cell_type": "markdown",
   "metadata": {},
   "source": [
    "#### 1. Drops Duplicates"
   ]
  },
  {
   "cell_type": "code",
   "execution_count": 3,
   "metadata": {},
   "outputs": [],
   "source": [
    "df.drop_duplicates(subset=df.columns.to_list()[3:], inplace=True)"
   ]
  },
  {
   "cell_type": "markdown",
   "metadata": {},
   "source": [
    "#### 2. Transforms column names to lowercase"
   ]
  },
  {
   "cell_type": "code",
   "execution_count": 4,
   "metadata": {},
   "outputs": [],
   "source": [
    "df.rename(columns=lambda x: x.lower(), inplace=True)"
   ]
  },
  {
   "cell_type": "markdown",
   "metadata": {},
   "source": [
    "#### 3. Calculates URL length"
   ]
  },
  {
   "cell_type": "code",
   "execution_count": 5,
   "metadata": {},
   "outputs": [],
   "source": [
    "df['url length'] = df['url'].str.len() - df['main'].str.len()"
   ]
  },
  {
   "cell_type": "markdown",
   "metadata": {},
   "source": [
    "#### 4. Drops non-numeric columns"
   ]
  },
  {
   "cell_type": "code",
   "execution_count": 6,
   "metadata": {
    "scrolled": true
   },
   "outputs": [
    {
     "name": "stdout",
     "output_type": "stream",
     "text": [
      "15 Spalten wurden entfernt:\n",
      "   - study\n",
      "   - id\n",
      "   - hash\n",
      "   - query_id\n",
      "   - query\n",
      "   - url\n",
      "   - main\n",
      "   - search engine\n",
      "   - micros\n",
      "   - tools ads\n",
      "   - tools analytics\n",
      "   - tools caching\n",
      "   - tools content\n",
      "   - tools seo\n",
      "   - tools social\n"
     ]
    }
   ],
   "source": [
    "to_drop = my.get_drop_cols(df)\n",
    "df.drop(columns=to_drop, inplace=True)\n",
    "# ONE HOT ENCODING: search engine, micros"
   ]
  },
  {
   "cell_type": "markdown",
   "metadata": {},
   "source": [
    "#### 5. Finds errors in speed column"
   ]
  },
  {
   "cell_type": "code",
   "execution_count": 7,
   "metadata": {},
   "outputs": [],
   "source": [
    "df.loc[df['speed'] < 0, 'speed'] = -1"
   ]
  },
  {
   "cell_type": "markdown",
   "metadata": {},
   "source": [
    "#### 6. Replaces missing values"
   ]
  },
  {
   "cell_type": "code",
   "execution_count": 8,
   "metadata": {},
   "outputs": [],
   "source": [
    "df.replace(-100, -1, inplace=True)\n",
    "df.fillna(-1, inplace=True)"
   ]
  },
  {
   "cell_type": "markdown",
   "metadata": {},
   "source": [
    "#### 7. Applies rule-based classification"
   ]
  },
  {
   "cell_type": "code",
   "execution_count": 9,
   "metadata": {},
   "outputs": [
    {
     "data": {
      "text/html": [
       "<div>\n",
       "<style scoped>\n",
       "    .dataframe tbody tr th:only-of-type {\n",
       "        vertical-align: middle;\n",
       "    }\n",
       "\n",
       "    .dataframe tbody tr th {\n",
       "        vertical-align: top;\n",
       "    }\n",
       "\n",
       "    .dataframe thead th {\n",
       "        text-align: right;\n",
       "    }\n",
       "</style>\n",
       "<table border=\"1\" class=\"dataframe\">\n",
       "  <thead>\n",
       "    <tr style=\"text-align: right;\">\n",
       "      <th></th>\n",
       "      <th>position</th>\n",
       "      <th>speed</th>\n",
       "      <th>check canonical</th>\n",
       "      <th>check description</th>\n",
       "      <th>check external links</th>\n",
       "      <th>check h1</th>\n",
       "      <th>check https</th>\n",
       "      <th>check internal links</th>\n",
       "      <th>check kw_count</th>\n",
       "      <th>check kw_density</th>\n",
       "      <th>...</th>\n",
       "      <th>source shop</th>\n",
       "      <th>source top</th>\n",
       "      <th>tools ads count</th>\n",
       "      <th>tools analytics count</th>\n",
       "      <th>tools caching count</th>\n",
       "      <th>tools content count</th>\n",
       "      <th>tools seo count</th>\n",
       "      <th>tools social count</th>\n",
       "      <th>url length</th>\n",
       "      <th>seo class</th>\n",
       "    </tr>\n",
       "  </thead>\n",
       "  <tbody>\n",
       "    <tr>\n",
       "      <th>0</th>\n",
       "      <td>1.0</td>\n",
       "      <td>0.502</td>\n",
       "      <td>1</td>\n",
       "      <td>0</td>\n",
       "      <td>53</td>\n",
       "      <td>1</td>\n",
       "      <td>1</td>\n",
       "      <td>135</td>\n",
       "      <td>64</td>\n",
       "      <td>57.657</td>\n",
       "      <td>...</td>\n",
       "      <td>0</td>\n",
       "      <td>1</td>\n",
       "      <td>0</td>\n",
       "      <td>0</td>\n",
       "      <td>0</td>\n",
       "      <td>0</td>\n",
       "      <td>0</td>\n",
       "      <td>0</td>\n",
       "      <td>16</td>\n",
       "      <td>0</td>\n",
       "    </tr>\n",
       "    <tr>\n",
       "      <th>1</th>\n",
       "      <td>-1.0</td>\n",
       "      <td>0.502</td>\n",
       "      <td>1</td>\n",
       "      <td>0</td>\n",
       "      <td>53</td>\n",
       "      <td>1</td>\n",
       "      <td>1</td>\n",
       "      <td>135</td>\n",
       "      <td>64</td>\n",
       "      <td>57.657</td>\n",
       "      <td>...</td>\n",
       "      <td>0</td>\n",
       "      <td>1</td>\n",
       "      <td>0</td>\n",
       "      <td>0</td>\n",
       "      <td>0</td>\n",
       "      <td>0</td>\n",
       "      <td>0</td>\n",
       "      <td>0</td>\n",
       "      <td>16</td>\n",
       "      <td>0</td>\n",
       "    </tr>\n",
       "    <tr>\n",
       "      <th>2</th>\n",
       "      <td>2.0</td>\n",
       "      <td>2.698</td>\n",
       "      <td>1</td>\n",
       "      <td>1</td>\n",
       "      <td>37</td>\n",
       "      <td>3</td>\n",
       "      <td>1</td>\n",
       "      <td>140</td>\n",
       "      <td>9</td>\n",
       "      <td>9.473</td>\n",
       "      <td>...</td>\n",
       "      <td>0</td>\n",
       "      <td>1</td>\n",
       "      <td>0</td>\n",
       "      <td>0</td>\n",
       "      <td>0</td>\n",
       "      <td>0</td>\n",
       "      <td>0</td>\n",
       "      <td>0</td>\n",
       "      <td>98</td>\n",
       "      <td>3</td>\n",
       "    </tr>\n",
       "    <tr>\n",
       "      <th>3</th>\n",
       "      <td>3.0</td>\n",
       "      <td>2.377</td>\n",
       "      <td>1</td>\n",
       "      <td>1</td>\n",
       "      <td>15</td>\n",
       "      <td>2</td>\n",
       "      <td>1</td>\n",
       "      <td>149</td>\n",
       "      <td>6</td>\n",
       "      <td>13.333</td>\n",
       "      <td>...</td>\n",
       "      <td>0</td>\n",
       "      <td>1</td>\n",
       "      <td>0</td>\n",
       "      <td>1</td>\n",
       "      <td>0</td>\n",
       "      <td>0</td>\n",
       "      <td>0</td>\n",
       "      <td>0</td>\n",
       "      <td>28</td>\n",
       "      <td>3</td>\n",
       "    </tr>\n",
       "    <tr>\n",
       "      <th>4</th>\n",
       "      <td>-1.0</td>\n",
       "      <td>2.377</td>\n",
       "      <td>1</td>\n",
       "      <td>1</td>\n",
       "      <td>15</td>\n",
       "      <td>2</td>\n",
       "      <td>1</td>\n",
       "      <td>149</td>\n",
       "      <td>6</td>\n",
       "      <td>13.333</td>\n",
       "      <td>...</td>\n",
       "      <td>0</td>\n",
       "      <td>1</td>\n",
       "      <td>0</td>\n",
       "      <td>1</td>\n",
       "      <td>0</td>\n",
       "      <td>0</td>\n",
       "      <td>0</td>\n",
       "      <td>0</td>\n",
       "      <td>28</td>\n",
       "      <td>3</td>\n",
       "    </tr>\n",
       "  </tbody>\n",
       "</table>\n",
       "<p>5 rows × 50 columns</p>\n",
       "</div>"
      ],
      "text/plain": [
       "   position  speed  check canonical  check description  check external links  \\\n",
       "0       1.0  0.502                1                  0                    53   \n",
       "1      -1.0  0.502                1                  0                    53   \n",
       "2       2.0  2.698                1                  1                    37   \n",
       "3       3.0  2.377                1                  1                    15   \n",
       "4      -1.0  2.377                1                  1                    15   \n",
       "\n",
       "   check h1  check https  check internal links  check kw_count  \\\n",
       "0         1            1                   135              64   \n",
       "1         1            1                   135              64   \n",
       "2         3            1                   140               9   \n",
       "3         2            1                   149               6   \n",
       "4         2            1                   149               6   \n",
       "\n",
       "   check kw_density  ...  source shop  source top  tools ads count  \\\n",
       "0            57.657  ...            0           1                0   \n",
       "1            57.657  ...            0           1                0   \n",
       "2             9.473  ...            0           1                0   \n",
       "3            13.333  ...            0           1                0   \n",
       "4            13.333  ...            0           1                0   \n",
       "\n",
       "   tools analytics count  tools caching count  tools content count  \\\n",
       "0                      0                    0                    0   \n",
       "1                      0                    0                    0   \n",
       "2                      0                    0                    0   \n",
       "3                      1                    0                    0   \n",
       "4                      1                    0                    0   \n",
       "\n",
       "   tools seo count  tools social count  url length  seo class  \n",
       "0                0                   0          16          0  \n",
       "1                0                   0          16          0  \n",
       "2                0                   0          98          3  \n",
       "3                0                   0          28          3  \n",
       "4                0                   0          28          3  \n",
       "\n",
       "[5 rows x 50 columns]"
      ]
     },
     "execution_count": 9,
     "metadata": {},
     "output_type": "execute_result"
    }
   ],
   "source": [
    "df2 = my.apply_seo_classes(df)\n",
    "df.head()"
   ]
  },
  {
   "cell_type": "markdown",
   "metadata": {},
   "source": [
    "#### 8. Saves overview dataframe to excel"
   ]
  },
  {
   "cell_type": "code",
   "execution_count": 10,
   "metadata": {},
   "outputs": [
    {
     "data": {
      "text/html": [
       "<div>\n",
       "<style scoped>\n",
       "    .dataframe tbody tr th:only-of-type {\n",
       "        vertical-align: middle;\n",
       "    }\n",
       "\n",
       "    .dataframe tbody tr th {\n",
       "        vertical-align: top;\n",
       "    }\n",
       "\n",
       "    .dataframe thead th {\n",
       "        text-align: right;\n",
       "    }\n",
       "</style>\n",
       "<table border=\"1\" class=\"dataframe\">\n",
       "  <thead>\n",
       "    <tr style=\"text-align: right;\">\n",
       "      <th></th>\n",
       "      <th>Name</th>\n",
       "      <th>Type</th>\n",
       "      <th># Missing</th>\n",
       "      <th>% Missing</th>\n",
       "      <th># Error</th>\n",
       "      <th>% Error</th>\n",
       "      <th>Common</th>\n",
       "      <th># Common</th>\n",
       "      <th>% Common</th>\n",
       "    </tr>\n",
       "  </thead>\n",
       "  <tbody>\n",
       "    <tr>\n",
       "      <th>0</th>\n",
       "      <td>position</td>\n",
       "      <td>float64</td>\n",
       "      <td>0</td>\n",
       "      <td>0.0</td>\n",
       "      <td>35152</td>\n",
       "      <td>7.677607</td>\n",
       "      <td>-1.0</td>\n",
       "      <td>35152</td>\n",
       "      <td>7.677607</td>\n",
       "    </tr>\n",
       "    <tr>\n",
       "      <th>1</th>\n",
       "      <td>speed</td>\n",
       "      <td>float64</td>\n",
       "      <td>0</td>\n",
       "      <td>0.0</td>\n",
       "      <td>14463</td>\n",
       "      <td>3.158888</td>\n",
       "      <td>-1.0</td>\n",
       "      <td>14463</td>\n",
       "      <td>3.158888</td>\n",
       "    </tr>\n",
       "    <tr>\n",
       "      <th>2</th>\n",
       "      <td>check canonical</td>\n",
       "      <td>int64</td>\n",
       "      <td>0</td>\n",
       "      <td>0.0</td>\n",
       "      <td>318</td>\n",
       "      <td>0.069455</td>\n",
       "      <td>1.0</td>\n",
       "      <td>331682</td>\n",
       "      <td>72.443218</td>\n",
       "    </tr>\n",
       "    <tr>\n",
       "      <th>3</th>\n",
       "      <td>check description</td>\n",
       "      <td>int64</td>\n",
       "      <td>0</td>\n",
       "      <td>0.0</td>\n",
       "      <td>316</td>\n",
       "      <td>0.069018</td>\n",
       "      <td>1.0</td>\n",
       "      <td>370137</td>\n",
       "      <td>80.842239</td>\n",
       "    </tr>\n",
       "    <tr>\n",
       "      <th>4</th>\n",
       "      <td>check external links</td>\n",
       "      <td>int64</td>\n",
       "      <td>0</td>\n",
       "      <td>0.0</td>\n",
       "      <td>316</td>\n",
       "      <td>0.069018</td>\n",
       "      <td>0.0</td>\n",
       "      <td>37568</td>\n",
       "      <td>8.205289</td>\n",
       "    </tr>\n",
       "  </tbody>\n",
       "</table>\n",
       "</div>"
      ],
      "text/plain": [
       "                   Name     Type  # Missing  % Missing  # Error   % Error  \\\n",
       "0              position  float64          0        0.0    35152  7.677607   \n",
       "1                 speed  float64          0        0.0    14463  3.158888   \n",
       "2       check canonical    int64          0        0.0      318  0.069455   \n",
       "3     check description    int64          0        0.0      316  0.069018   \n",
       "4  check external links    int64          0        0.0      316  0.069018   \n",
       "\n",
       "   Common  # Common   % Common  \n",
       "0    -1.0     35152   7.677607  \n",
       "1    -1.0     14463   3.158888  \n",
       "2     1.0    331682  72.443218  \n",
       "3     1.0    370137  80.842239  \n",
       "4     0.0     37568   8.205289  "
      ]
     },
     "execution_count": 10,
     "metadata": {},
     "output_type": "execute_result"
    }
   ],
   "source": [
    "df3, val_counts = my.get_overview(df2)\n",
    "df3.to_excel('data/output/overview_cleaned.xlsx')\n",
    "df3.head()"
   ]
  },
  {
   "cell_type": "markdown",
   "metadata": {},
   "source": [
    "#### 9. Saves cleaned data"
   ]
  },
  {
   "cell_type": "code",
   "execution_count": 11,
   "metadata": {},
   "outputs": [],
   "source": [
    "df2.to_csv('data/output/data_cleaned.csv', index=False)"
   ]
  },
  {
   "cell_type": "markdown",
   "metadata": {},
   "source": [
    "Back to Top [⬆️](#2_Preparation)"
   ]
  }
 ],
 "metadata": {
  "kernelspec": {
   "display_name": "Python 3",
   "language": "python",
   "name": "python3"
  },
  "language_info": {
   "codemirror_mode": {
    "name": "ipython",
    "version": 3
   },
   "file_extension": ".py",
   "mimetype": "text/x-python",
   "name": "python",
   "nbconvert_exporter": "python",
   "pygments_lexer": "ipython3",
   "version": "3.8.5"
  }
 },
 "nbformat": 4,
 "nbformat_minor": 4
}
